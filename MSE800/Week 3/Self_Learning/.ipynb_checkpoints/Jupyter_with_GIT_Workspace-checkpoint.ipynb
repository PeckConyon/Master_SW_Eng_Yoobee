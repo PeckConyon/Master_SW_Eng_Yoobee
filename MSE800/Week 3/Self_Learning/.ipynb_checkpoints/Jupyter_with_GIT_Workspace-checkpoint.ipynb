{
 "cells": [
  {
   "cell_type": "code",
   "execution_count": 2,
   "id": "915a8a25-9858-4a0e-8166-a004f278659f",
   "metadata": {},
   "outputs": [
    {
     "name": "stdout",
     "output_type": "stream",
     "text": [
      "Hellow world\n"
     ]
    }
   ],
   "source": [
    "print('Hellow world')"
   ]
  },
  {
   "cell_type": "markdown",
   "id": "f0612303-053a-41c7-be94-fac8a77fc272",
   "metadata": {},
   "source": [
    "# This is jupyter server in the github codespaces\n",
    "\n",
    "## I want to learn jupyter\n",
    "\n",
    "1. This is the first line of a numbered list\n",
    "2. Second line\n",
    "3. Third line\n",
    "\n",
    "## I have used *Markdown*\n"
   ]
  },
  {
   "cell_type": "code",
   "execution_count": null,
   "id": "cb9f4177-6519-4d9e-a0b8-9300b6f4ce70",
   "metadata": {},
   "outputs": [],
   "source": []
  }
 ],
 "metadata": {
  "kernelspec": {
   "display_name": "Python 3 (ipykernel)",
   "language": "python",
   "name": "python3"
  },
  "language_info": {
   "codemirror_mode": {
    "name": "ipython",
    "version": 3
   },
   "file_extension": ".py",
   "mimetype": "text/x-python",
   "name": "python",
   "nbconvert_exporter": "python",
   "pygments_lexer": "ipython3",
   "version": "3.12.1"
  }
 },
 "nbformat": 4,
 "nbformat_minor": 5
}
