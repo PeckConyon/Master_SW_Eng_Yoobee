{
 "cells": [
  {
   "cell_type": "markdown",
   "id": "f02efe56-255c-40b0-86cc-a87701da80d4",
   "metadata": {},
   "source": [
    "## It is possible to use a class without init and self if we use static "
   ]
  },
  {
   "cell_type": "code",
   "execution_count": 1,
   "id": "cc9315ec-f34a-420a-8c4e-82d0ff5ae249",
   "metadata": {},
   "outputs": [
    {
     "name": "stdout",
     "output_type": "stream",
     "text": [
      "Factorial of 10 is 3628800\n",
      "10 is not a prime number.\n"
     ]
    }
   ],
   "source": [
    "class Factorial:\n",
    "    @staticmethod\n",
    "    def factorial(num):\n",
    "        result = 1\n",
    "        for i in range(1, num + 1):\n",
    "            result *= i\n",
    "        return result\n",
    "\n",
    "    @staticmethod\n",
    "    def is_prime(num):\n",
    "        if num < 2:\n",
    "            return False\n",
    "        for i in range(2, int(num ** 0.5) + 1):\n",
    "            if num % i == 0:\n",
    "                return False\n",
    "        return True\n",
    "\n",
    "    @staticmethod\n",
    "    def display(num):\n",
    "        print(f\"Factorial of {num} is {Factorial.factorial(num)}\")\n",
    "        if Factorial.is_prime(num):\n",
    "            print(f\"{num} is a prime number.\")\n",
    "        else:\n",
    "            print(f\"{num} is not a prime number.\")\n",
    "\n",
    "Factorial.display(10)"
   ]
  },
  {
   "cell_type": "code",
   "execution_count": null,
   "id": "fdaaf855-d2b0-4af4-b032-e8430979720b",
   "metadata": {},
   "outputs": [],
   "source": []
  }
 ],
 "metadata": {
  "kernelspec": {
   "display_name": "Python 3 (ipykernel)",
   "language": "python",
   "name": "python3"
  },
  "language_info": {
   "codemirror_mode": {
    "name": "ipython",
    "version": 3
   },
   "file_extension": ".py",
   "mimetype": "text/x-python",
   "name": "python",
   "nbconvert_exporter": "python",
   "pygments_lexer": "ipython3",
   "version": "3.12.1"
  }
 },
 "nbformat": 4,
 "nbformat_minor": 5
}
