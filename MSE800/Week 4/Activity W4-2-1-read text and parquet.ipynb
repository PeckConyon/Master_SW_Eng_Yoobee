{
 "cells": [
  {
   "cell_type": "markdown",
   "id": "95bf76da-4c5b-4423-855c-59f12cf124ad",
   "metadata": {},
   "source": [
    "# Read Text and Parquet files"
   ]
  },
  {
   "cell_type": "markdown",
   "id": "9cb42412-8818-447a-8425-c821df325e8b",
   "metadata": {},
   "source": [
    "1. load the text file and find the number of __ in the txt file\n",
    "2. load the parquet file and print out the number of features"
   ]
  },
  {
   "cell_type": "code",
   "execution_count": 14,
   "id": "88d96e0f-44a6-43dc-ac6d-5bc670a90f9a",
   "metadata": {},
   "outputs": [
    {
     "name": "stdout",
     "output_type": "stream",
     "text": [
      "No of Underscores in sample_text.txt = 2\n",
      "\n",
      "Line No 5) This is line__5\n",
      "\n",
      "Line No 9) This is line__9\n",
      "\n",
      "\n"
     ]
    }
   ],
   "source": [
    "import pandas as pd\n",
    "\n",
    "file_name = 'sample_text.txt'\n",
    "no_of_underscores = 0\n",
    "lines_contains_underscores = ''\n",
    "\n",
    "with open(file_name , 'r') as data:\n",
    "    lines = data.readlines()\n",
    "    count = 0\n",
    "    for line in lines:\n",
    "        if(line.find('_') != -1):\n",
    "            lines_contains_underscores += 'Line No ' + str(count + 1) + ') ' + line + '\\n'\n",
    "            no_of_underscores +=1\n",
    "        count+=1\n",
    "            \n",
    "print('No of Underscores in ' + file_name + ' = ' + str(no_of_underscores) + '\\n\\n' + lines_contains_underscores)\n"
   ]
  },
  {
   "cell_type": "code",
   "execution_count": 19,
   "id": "a1bc8b39-856e-42a6-8bdf-25bb9ea3f3b3",
   "metadata": {},
   "outputs": [
    {
     "name": "stdout",
     "output_type": "stream",
     "text": [
      "No of Features in Sample_data_2.parquet = 12\n"
     ]
    }
   ],
   "source": [
    "import pandas as pd\n",
    "\n",
    "file_name = 'Sample_data_2.parquet'\n",
    "no_of_underscores = 0\n",
    "lines_contains_underscores = ''\n",
    "\n",
    "data_frame = pd.read_parquet(file_name)\n",
    "print('No of Features in ' + file_name + ' = ' + str(len(data_frame.columns)))\n"
   ]
  },
  {
   "cell_type": "code",
   "execution_count": null,
   "id": "fa4bf7fd-a425-4550-88fa-4352ee1ed05a",
   "metadata": {},
   "outputs": [],
   "source": []
  }
 ],
 "metadata": {
  "kernelspec": {
   "display_name": "Python 3 (ipykernel)",
   "language": "python",
   "name": "python3"
  },
  "language_info": {
   "codemirror_mode": {
    "name": "ipython",
    "version": 3
   },
   "file_extension": ".py",
   "mimetype": "text/x-python",
   "name": "python",
   "nbconvert_exporter": "python",
   "pygments_lexer": "ipython3",
   "version": "3.12.1"
  }
 },
 "nbformat": 4,
 "nbformat_minor": 5
}
