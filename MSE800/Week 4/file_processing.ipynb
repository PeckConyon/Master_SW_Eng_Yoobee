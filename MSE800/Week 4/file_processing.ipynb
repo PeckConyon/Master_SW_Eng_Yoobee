{
 "cells": [
  {
   "cell_type": "markdown",
   "id": "e3bed33d-5186-4396-88bd-f0e16197944e",
   "metadata": {},
   "source": [
    "# File Processing"
   ]
  },
  {
   "cell_type": "markdown",
   "id": "9b796083-9d76-4feb-9dd8-78483b04d475",
   "metadata": {},
   "source": [
    "## Reading data from a CSV"
   ]
  },
  {
   "cell_type": "markdown",
   "id": "551e65f6-80d0-4e7c-8d19-96e5b3cdfdaf",
   "metadata": {},
   "source": [
    "1. Installed Pandas  - pip install pandas\n",
    "2. Get pandas pdf - page 289\n",
    "3. It explains lib - eg import panda\n",
    "4. when use colab we need to mount (connect to google drive) and access the file using fully qualified path or navigate to folder\n",
    "5. ls - list all files\n",
    "6. pwd - shows where we at in directory\n",
    "7. cd - to change directory"
   ]
  },
  {
   "cell_type": "code",
   "execution_count": 2,
   "id": "174731e9-0356-421c-862b-711ea3bc4ba2",
   "metadata": {},
   "outputs": [
    {
     "name": "stdout",
     "output_type": "stream",
     "text": [
      "   EmailID                        Subject                 Sender  \\\n",
      "0        1             Win a Free iPhone!       promo@winbig.com   \n",
      "1        2  Important: Account Suspension   support@fakemail.com   \n",
      "2        3      Newsletter - April Update  news@legitcompany.com   \n",
      "3        4         You have been selected       lottery@scam.org   \n",
      "4        5            Team Meeting Agenda  colleague@company.com   \n",
      "\n",
      "                                             Content  ContainsLink  IsSpam  \n",
      "0          Click here to claim your free iPhone now!          True    True  \n",
      "1           We noticed unusual activity. Verify now.          True    True  \n",
      "2                   Here is your monthly newsletter.         False   False  \n",
      "3         Congratulations! You are our lucky winner!          True    True  \n",
      "4  Please find the agenda for tomorrow’s meeting ...         False   False  \n"
     ]
    }
   ],
   "source": [
    "import pandas as pd\n",
    "from io import StringIO\n",
    "file_name = 'sample_junk_mail.csv'\n",
    "data_frame = pd.read_csv(file_name)\n",
    "print(data_frame.head())\n",
    "\n",
    "# TODO : Create a class to read this csv data \n",
    "\n"
   ]
  },
  {
   "cell_type": "markdown",
   "id": "a5154d58-fed7-491d-a9c5-1077eb235b0c",
   "metadata": {},
   "source": [
    "## Read Image Data\n",
    "1. Installed ternsorflow lib"
   ]
  },
  {
   "cell_type": "code",
   "execution_count": 1,
   "id": "c2864f53-5e87-4e8a-83d5-707346e59ce5",
   "metadata": {},
   "outputs": [
    {
     "name": "stderr",
     "output_type": "stream",
     "text": [
      "2025-05-02 22:32:19.116627: I external/local_xla/xla/tsl/cuda/cudart_stub.cc:32] Could not find cuda drivers on your machine, GPU will not be used.\n",
      "2025-05-02 22:32:19.495388: I external/local_xla/xla/tsl/cuda/cudart_stub.cc:32] Could not find cuda drivers on your machine, GPU will not be used.\n",
      "2025-05-02 22:32:19.687815: E external/local_xla/xla/stream_executor/cuda/cuda_fft.cc:467] Unable to register cuFFT factory: Attempting to register factory for plugin cuFFT when one has already been registered\n",
      "WARNING: All log messages before absl::InitializeLog() is called are written to STDERR\n",
      "E0000 00:00:1746225139.991273     982 cuda_dnn.cc:8579] Unable to register cuDNN factory: Attempting to register factory for plugin cuDNN when one has already been registered\n",
      "E0000 00:00:1746225140.097405     982 cuda_blas.cc:1407] Unable to register cuBLAS factory: Attempting to register factory for plugin cuBLAS when one has already been registered\n",
      "W0000 00:00:1746225141.088461     982 computation_placer.cc:177] computation placer already registered. Please check linkage and avoid linking the same target more than once.\n",
      "W0000 00:00:1746225141.088499     982 computation_placer.cc:177] computation placer already registered. Please check linkage and avoid linking the same target more than once.\n",
      "W0000 00:00:1746225141.088503     982 computation_placer.cc:177] computation placer already registered. Please check linkage and avoid linking the same target more than once.\n",
      "W0000 00:00:1746225141.088506     982 computation_placer.cc:177] computation placer already registered. Please check linkage and avoid linking the same target more than once.\n",
      "2025-05-02 22:32:21.592208: I tensorflow/core/platform/cpu_feature_guard.cc:210] This TensorFlow binary is optimized to use available CPU instructions in performance-critical operations.\n",
      "To enable the following instructions: AVX2 FMA, in other operations, rebuild TensorFlow with the appropriate compiler flags.\n"
     ]
    }
   ],
   "source": [
    "import tensorflow as tf\n",
    "\n"
   ]
  },
  {
   "cell_type": "code",
   "execution_count": null,
   "id": "615ab3b7-b5f6-456d-afff-c2cbab014295",
   "metadata": {},
   "outputs": [],
   "source": []
  }
 ],
 "metadata": {
  "kernelspec": {
   "display_name": "Python 3 (ipykernel)",
   "language": "python",
   "name": "python3"
  },
  "language_info": {
   "codemirror_mode": {
    "name": "ipython",
    "version": 3
   },
   "file_extension": ".py",
   "mimetype": "text/x-python",
   "name": "python",
   "nbconvert_exporter": "python",
   "pygments_lexer": "ipython3",
   "version": "3.12.1"
  }
 },
 "nbformat": 4,
 "nbformat_minor": 5
}
