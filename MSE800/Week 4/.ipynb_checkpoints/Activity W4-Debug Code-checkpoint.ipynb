{
 "cells": [
  {
   "cell_type": "code",
   "execution_count": 1,
   "id": "4cb98121-e28c-48b0-83d9-a854e8a6b511",
   "metadata": {},
   "outputs": [
    {
     "name": "stdout",
     "output_type": "stream",
     "text": [
      "using '|': {2, 3, 4, 5, 6, 39, 10}\n",
      "using union(): {2, 3, 4, 5, 6, 39, 10}\n"
     ]
    }
   ],
   "source": [
    "A = {10, 2, 3, 4}\n",
    "B = {39, 4, 5, 6}\n",
    "# Using '|' operator\n",
    "res1 = A | B\n",
    "print(\"using '|':\", res1)\n",
    " \n",
    "# Using union() method\n",
    "res2 = A.union(B)\n",
    "print(\"using union():\",res2)"
   ]
  },
  {
   "cell_type": "code",
   "execution_count": null,
   "id": "e53a5ba8-1610-4d5d-89f0-df5f0496c074",
   "metadata": {},
   "outputs": [],
   "source": []
  },
  {
   "cell_type": "code",
   "execution_count": null,
   "id": "585d2b97-acec-4c5e-849d-5c1cc24187c6",
   "metadata": {},
   "outputs": [],
   "source": []
  }
 ],
 "metadata": {
  "kernelspec": {
   "display_name": "Python 3 (ipykernel)",
   "language": "python",
   "name": "python3"
  },
  "language_info": {
   "codemirror_mode": {
    "name": "ipython",
    "version": 3
   },
   "file_extension": ".py",
   "mimetype": "text/x-python",
   "name": "python",
   "nbconvert_exporter": "python",
   "pygments_lexer": "ipython3",
   "version": "3.12.1"
  }
 },
 "nbformat": 4,
 "nbformat_minor": 5
}
