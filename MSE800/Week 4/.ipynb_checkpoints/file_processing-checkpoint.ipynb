{
 "cells": [
  {
   "cell_type": "markdown",
   "id": "e3bed33d-5186-4396-88bd-f0e16197944e",
   "metadata": {},
   "source": [
    "# File Processing"
   ]
  },
  {
   "cell_type": "markdown",
   "id": "9b796083-9d76-4feb-9dd8-78483b04d475",
   "metadata": {},
   "source": [
    "## Reading data from a CSV"
   ]
  },
  {
   "cell_type": "markdown",
   "id": "551e65f6-80d0-4e7c-8d19-96e5b3cdfdaf",
   "metadata": {},
   "source": [
    "1. Installed Pandas  - pip install pandas\n",
    "2. Get pandas pdf - page 289\n",
    "3. It explains lib - eg import panda\n",
    "4. when use colab we need to mount (connect to google drive) and access the file using fully qualified path or navigate to folder\n",
    "5. ls - list all files\n",
    "6. pwd - shows where we at in directory\n",
    "7. cd - to change directory"
   ]
  },
  {
   "cell_type": "code",
   "execution_count": 2,
   "id": "174731e9-0356-421c-862b-711ea3bc4ba2",
   "metadata": {},
   "outputs": [
    {
     "name": "stdout",
     "output_type": "stream",
     "text": [
      "   EmailID                        Subject                 Sender  \\\n",
      "0        1             Win a Free iPhone!       promo@winbig.com   \n",
      "1        2  Important: Account Suspension   support@fakemail.com   \n",
      "2        3      Newsletter - April Update  news@legitcompany.com   \n",
      "3        4         You have been selected       lottery@scam.org   \n",
      "4        5            Team Meeting Agenda  colleague@company.com   \n",
      "\n",
      "                                             Content  ContainsLink  IsSpam  \n",
      "0          Click here to claim your free iPhone now!          True    True  \n",
      "1           We noticed unusual activity. Verify now.          True    True  \n",
      "2                   Here is your monthly newsletter.         False   False  \n",
      "3         Congratulations! You are our lucky winner!          True    True  \n",
      "4  Please find the agenda for tomorrow’s meeting ...         False   False  \n"
     ]
    }
   ],
   "source": [
    "import pandas as pd\n",
    "from io import StringIO\n",
    "file_name = 'sample_junk_mail.csv'\n",
    "data_frame = pd.read_csv(file_name)\n",
    "print(data_frame.head())\n",
    "\n",
    "# TODO : Create a class to read this csv data \n",
    "\n"
   ]
  },
  {
   "cell_type": "code",
   "execution_count": null,
   "id": "454df4ec-f3cd-4c2d-b4ba-86bc0f500d2c",
   "metadata": {},
   "outputs": [],
   "source": []
  }
 ],
 "metadata": {
  "kernelspec": {
   "display_name": "Python 3 (ipykernel)",
   "language": "python",
   "name": "python3"
  },
  "language_info": {
   "codemirror_mode": {
    "name": "ipython",
    "version": 3
   },
   "file_extension": ".py",
   "mimetype": "text/x-python",
   "name": "python",
   "nbconvert_exporter": "python",
   "pygments_lexer": "ipython3",
   "version": "3.12.1"
  }
 },
 "nbformat": 4,
 "nbformat_minor": 5
}
