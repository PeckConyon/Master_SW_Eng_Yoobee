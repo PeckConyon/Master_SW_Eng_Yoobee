{
 "cells": [
  {
   "cell_type": "markdown",
   "id": "95bf76da-4c5b-4423-855c-59f12cf124ad",
   "metadata": {},
   "source": [
    "# Read Text and Parquet files"
   ]
  },
  {
   "cell_type": "markdown",
   "id": "9cb42412-8818-447a-8425-c821df325e8b",
   "metadata": {},
   "source": [
    "1. load the text file and find the number of __ in the txt file\n",
    "2. load the parquet file and print out the number of features"
   ]
  },
  {
   "cell_type": "code",
   "execution_count": 4,
   "id": "88d96e0f-44a6-43dc-ac6d-5bc670a90f9a",
   "metadata": {},
   "outputs": [
    {
     "name": "stdout",
     "output_type": "stream",
     "text": [
      "No of Underscores in sample_text.txt = 2\n",
      "\n",
      "Line No : 5) This is line__5\n",
      "\n",
      "Line No : 9) This is line__9\n",
      "\n",
      "\n"
     ]
    }
   ],
   "source": [
    "import pandas as pd\n",
    "\n",
    "file_name = 'sample_text.txt'\n",
    "no_of_underscores = 0\n",
    "lines_contains_underscores = ''\n",
    "\n",
    "with open(file_name , 'r') as data:\n",
    "    lines = data.readlines()\n",
    "    count = 0\n",
    "    for line in lines:\n",
    "        if(line.find('_') != -1):\n",
    "            lines_contains_underscores += 'Line No : ' + str(count + 1) + ') ' + line + '\\n'\n",
    "            no_of_underscores +=1\n",
    "        count+=1\n",
    "            \n",
    "print('No of Underscores in ' + file_name + ' = ' + str(no_of_underscores) + '\\n\\n' + lines_contains_underscores)\n"
   ]
  },
  {
   "cell_type": "code",
   "execution_count": 13,
   "id": "a1bc8b39-856e-42a6-8bdf-25bb9ea3f3b3",
   "metadata": {},
   "outputs": [
    {
     "name": "stdout",
     "output_type": "stream",
     "text": [
      "     PassengerId  Survived  Pclass  \\\n",
      "0              1         0       3   \n",
      "1              2         1       1   \n",
      "2              3         1       3   \n",
      "3              4         1       1   \n",
      "4              5         0       3   \n",
      "..           ...       ...     ...   \n",
      "886          887         0       2   \n",
      "887          888         1       1   \n",
      "888          889         0       3   \n",
      "889          890         1       1   \n",
      "890          891         0       3   \n",
      "\n",
      "                                                  Name     Sex   Age  SibSp  \\\n",
      "0                              Braund, Mr. Owen Harris    male  22.0      1   \n",
      "1    Cumings, Mrs. John Bradley (Florence Briggs Th...  female  38.0      1   \n",
      "2                               Heikkinen, Miss. Laina  female  26.0      0   \n",
      "3         Futrelle, Mrs. Jacques Heath (Lily May Peel)  female  35.0      1   \n",
      "4                             Allen, Mr. William Henry    male  35.0      0   \n",
      "..                                                 ...     ...   ...    ...   \n",
      "886                              Montvila, Rev. Juozas    male  27.0      0   \n",
      "887                       Graham, Miss. Margaret Edith  female  19.0      0   \n",
      "888           Johnston, Miss. Catherine Helen \"Carrie\"  female   NaN      1   \n",
      "889                              Behr, Mr. Karl Howell    male  26.0      0   \n",
      "890                                Dooley, Mr. Patrick    male  32.0      0   \n",
      "\n",
      "     Parch            Ticket     Fare Cabin Embarked  \n",
      "0        0         A/5 21171   7.2500  None        S  \n",
      "1        0          PC 17599  71.2833   C85        C  \n",
      "2        0  STON/O2. 3101282   7.9250  None        S  \n",
      "3        0            113803  53.1000  C123        S  \n",
      "4        0            373450   8.0500  None        S  \n",
      "..     ...               ...      ...   ...      ...  \n",
      "886      0            211536  13.0000  None        S  \n",
      "887      0            112053  30.0000   B42        S  \n",
      "888      2        W./C. 6607  23.4500  None        S  \n",
      "889      0            111369  30.0000  C148        C  \n",
      "890      0            370376   7.7500  None        Q  \n",
      "\n",
      "[891 rows x 12 columns]\n",
      "No of Underscores in Sample_data_2.parquet = 0\n",
      "\n",
      "\n"
     ]
    }
   ],
   "source": [
    "import pandas as pd\n",
    "\n",
    "file_name = 'Sample_data_2.parquet'\n",
    "no_of_underscores = 0\n",
    "lines_contains_underscores = ''\n",
    "\n",
    "data_frame = pd.read_parquet(file_name)\n",
    "print(data_frame)\n",
    "\n",
    "\n",
    "\n",
    "\n",
    "            \n",
    "print('No of Underscores in ' + file_name + ' = ' + str(no_of_underscores) + '\\n\\n' + lines_contains_underscores)"
   ]
  },
  {
   "cell_type": "code",
   "execution_count": null,
   "id": "fa4bf7fd-a425-4550-88fa-4352ee1ed05a",
   "metadata": {},
   "outputs": [],
   "source": []
  }
 ],
 "metadata": {
  "kernelspec": {
   "display_name": "Python 3 (ipykernel)",
   "language": "python",
   "name": "python3"
  },
  "language_info": {
   "codemirror_mode": {
    "name": "ipython",
    "version": 3
   },
   "file_extension": ".py",
   "mimetype": "text/x-python",
   "name": "python",
   "nbconvert_exporter": "python",
   "pygments_lexer": "ipython3",
   "version": "3.12.1"
  }
 },
 "nbformat": 4,
 "nbformat_minor": 5
}
