








import pandas as pd
from io import StringIO
file_name = 'sample_junk_mail.csv'
data_frame = pd.read_csv(file_name)
print(data_frame.head())

# TODO : Create a class to read this csv data 







import tensorflow as tf





