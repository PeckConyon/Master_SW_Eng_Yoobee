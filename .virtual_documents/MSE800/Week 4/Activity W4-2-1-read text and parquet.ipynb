





import pandas as pd

file_name = 'sample_text.txt'
no_of_underscores = 0
lines_contains_underscores = ''

with open(file_name , 'r') as data:
    lines = data.readlines()
    count = 0
    for line in lines:
        if(line.find('_') != -1):
            lines_contains_underscores += 'Line No ' + str(count + 1) + ') ' + line + '\n'
            no_of_underscores +=1
        count+=1
            
print('No of Underscores in ' + file_name + ' = ' + str(no_of_underscores) + '\n\n' + lines_contains_underscores)



import pandas as pd

file_name = 'Sample_data_2.parquet'
no_of_underscores = 0
lines_contains_underscores = ''

data_frame = pd.read_parquet(file_name)
print('No of Features in ' + file_name + ' = ' + str(len(data_frame.columns)))




